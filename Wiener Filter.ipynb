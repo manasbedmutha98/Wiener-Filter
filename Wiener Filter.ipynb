{
 "cells": [
  {
   "cell_type": "markdown",
   "metadata": {},
   "source": [
    "## Denoising using Wiener Filter\n",
    "\n",
    "### Problem Statement\n",
    "\n",
    "Consider an image corrupted by both additive Gaussian noise and defocus blur. Design an algorithm to restore the image to make it less noisy and less blurry. Evaluate the restored image using appropriate quality metrics for varying amounts of noise and blur. Hint: One can use Wiener filter or its variants to achieve this.\n",
    "\n",
    "\n",
    "### Introduction\n",
    "\n",
    "#### About\n",
    "For a signal d(n), possessing a noise n(n), we have effective signal as $x(n) = d(n)*h(n) + n(n)$ in the sample domain. Our aim is to reconstruct the signal d(n) from a given x(n). For this we use Wiener Filters.\n",
    "\n",
    "Wiener Filter is an Adaptive Filter. It works based on the PSF of the functions; such that based on the training data it sees, the filter will find a $g(n)$ to convert $x(n)$ to reconstructed signal $s(n)$ to match $d(n)$. In frequency domain for PSD's D and N respectively, the transfer function corresponds to, \n",
    "$G(u,v) = E[\\frac{H(u,v)^* D}{H(u,v)^* H(u,v) D + N}]$\n",
    "\n",
    "Here, we take the assumption that each pixel from each image (data point) has equal contribution. Hence the pmf is uniform.\n",
    "\n",
    "#### Modelling the Noise\n",
    "Here, we will transform the image a gaussian kernel which is the transfer function of an LTI system. After this, we add noise to images. Wiener Filters are defined for WSS processes. For a AWGN, we can assume Gaussian Noise with a mean zero and variance randomly varying for the sake of robustness."
   ]
  },
  {
   "cell_type": "markdown",
   "metadata": {},
   "source": [
    "### Importing Libraries\n",
    "\n",
    "The following libraries are needed. They can be installed by `pip install <lib-name>` or running `requirements.txt` attached along with this notebook.\n",
    "1. cv2 for image read , write and display\n",
    "2. os to access files from dataset\n",
    "3. numpy for all operations on the image"
   ]
  },
  {
   "cell_type": "code",
   "execution_count": 1,
   "metadata": {},
   "outputs": [],
   "source": [
    "import cv2\n",
    "import os\n",
    "import numpy as np\n",
    "import scipy\n",
    "from scipy.signal import convolve"
   ]
  },
  {
   "cell_type": "markdown",
   "metadata": {},
   "source": [
    "### Approach\n",
    "\n",
    "#### Metrics\n",
    "We use two metrics, namely Peak Signal to Noise Ratio (PSNR) and Structural Similarity Index (SSIM)"
   ]
  },
  {
   "cell_type": "code",
   "execution_count": 2,
   "metadata": {},
   "outputs": [],
   "source": [
    "def psnr(im1, im2):\n",
    "    mse = np.mean((im1-im2)**2)\n",
    "    if mse == 0:\n",
    "        return 100\n",
    "    return 20 * np.log10(255 / np.sqrt(mse))"
   ]
  },
  {
   "cell_type": "code",
   "execution_count": 3,
   "metadata": {},
   "outputs": [],
   "source": [
    "def ssim(im1, im2):\n",
    "    from skimage.measure import compare_ssim\n",
    "    if im1.dtype!=im2.dtype:\n",
    "        im1 = np.int64(im1)\n",
    "        im2 = np.int64(im2)\n",
    "    if im1.shape>1:\n",
    "        return compare_ssim(im1, im2, multichannel=True)\n",
    "    else:\n",
    "        return compare_ssim(im1,im2)"
   ]
  },
  {
   "cell_type": "markdown",
   "metadata": {},
   "source": [
    "### Preprocessing & Additions\n",
    "Images are first, padded and then patched into 64 x 64 size. Then, the images are convolved with a gaussian blur and finally gaussian noise is added."
   ]
  },
  {
   "cell_type": "code",
   "execution_count": 4,
   "metadata": {},
   "outputs": [],
   "source": [
    "size = 64\n",
    "\n",
    "def pad(im, w0=size, h0=size):\n",
    "    w,h = im.shape\n",
    "    l_pad = (w0-w)//2\n",
    "    t_pad = (h0-h)//2\n",
    "\n",
    "    if w%2==0 and h%2==0:\n",
    "        im2 = cv2.copyMakeBorder(im, l_pad,t_pad,l_pad,t_pad,cv2.BORDER_CONSTANT,value=[0,0,0])\n",
    "\n",
    "    elif w%2!=0 and h%2==0:\n",
    "        im2 = cv2.copyMakeBorder(im, l_pad+1,l_pad,t_pad,t_pad,cv2.BORDER_CONSTANT,value=[0,0,0])\n",
    "\n",
    "    elif w%2==0 and h%2!=0:\n",
    "        im2 = cv2.copyMakeBorder(im, l_pad,l_pad,t_pad+1,t_pad,cv2.BORDER_CONSTANT,value=[0,0,0])\n",
    "    else:\n",
    "        im2 = cv2.copyMakeBorder(im, l_pad+1,l_pad,t_pad+1,t_pad,cv2.BORDER_CONSTANT,value=[0,0,0])\n",
    "    return im2"
   ]
  },
  {
   "cell_type": "code",
   "execution_count": 5,
   "metadata": {},
   "outputs": [],
   "source": [
    "def noise(row = size,col = size,ch=1):\n",
    "    mean = 127\n",
    "    var = np.random.randint(0,10)\n",
    "    sigma = var**0.5\n",
    "    gauss = np.random.normal(mean,sigma,(row,col))\n",
    "    gauss = gauss.reshape(row,col)\n",
    "    return gauss"
   ]
  },
  {
   "cell_type": "code",
   "execution_count": 6,
   "metadata": {},
   "outputs": [],
   "source": [
    "# Credits: https://www.scipy-lectures.org/intro/scipy/auto_examples/solutions/plot_image_blur.html\n",
    "\n",
    "def blur(dim=5):\n",
    "    t = np.linspace(-10, 10, dim)\n",
    "    bump = np.exp(-0.1*t**2)\n",
    "    bump /= np.trapz(bump) # normalize the integral to 1\n",
    "\n",
    "    # make a 2-D kernel out of it\n",
    "    kernel = bump[:, np.newaxis] * bump[np.newaxis, :]\n",
    "    return kernel"
   ]
  },
  {
   "cell_type": "markdown",
   "metadata": {},
   "source": [
    "#### Dataset\n",
    "\n",
    "Training Dataset chosen is Set5 dataset, more because of the variety it captures in terms of scenes as well as colours. The data is loaded and padded to be then appended in the data variable. This will ensure uniformity in image size.\n",
    "Patches are stored in basic as well as blurred form to create our training set."
   ]
  },
  {
   "cell_type": "code",
   "execution_count": 7,
   "metadata": {},
   "outputs": [],
   "source": [
    "train_folder = \"./Data/Set5/\"\n",
    "\n",
    "files = os.listdir(train_folder)\n",
    "\n",
    "images = []\n",
    "blurred = []\n",
    "\n",
    "for file_name in files:\n",
    "    #print(files)\n",
    "    name = file_name.split(\".\")[0]\n",
    "    img = cv2.imread(train_folder+file_name,0)\n",
    "    w,h = img.shape\n",
    "    \n",
    "    filt = blur()\n",
    "    p = convolve(img,filt,'same')\n",
    "    p = p/np.max(p)\n",
    "\n",
    "    for i in range(size,w,size):\n",
    "        for j in range(size,h+1,size):\n",
    "            patch = img[(i-size):i,(j-size):j]/255.0\n",
    "            images.append(patch)\n",
    "            blurred.append(p[(i-size):i,(j-size):j])"
   ]
  },
  {
   "cell_type": "code",
   "execution_count": 8,
   "metadata": {},
   "outputs": [
    {
     "name": "stdout",
     "output_type": "stream",
     "text": [
      "((115, 64, 64), (115, 64, 64))\n"
     ]
    }
   ],
   "source": [
    "blurred = np.array(blurred)\n",
    "images = np.array(images)\n",
    "print(blurred.shape, images.shape)"
   ]
  },
  {
   "cell_type": "markdown",
   "metadata": {},
   "source": [
    "#### Training\n",
    "The training function is based on the fact that using Wiener Filter in frequency domain for PSD's D and N respectively, the transfer function corresponds to, \n",
    "$G(u,v) = E[\\frac{H(u,v)^* D}{H(u,v)^* H(u,v) *D + N}]$\n",
    "\n",
    "Finally $G(u,v)$ gives us the final filter coefficients"
   ]
  },
  {
   "cell_type": "code",
   "execution_count": 9,
   "metadata": {},
   "outputs": [],
   "source": [
    "def train(blurred, images):\n",
    "    G = np.zeros(images[0].shape, dtype='complex128')\n",
    "    G1 = np.zeros(images[0].shape, dtype='complex128')\n",
    "    G2 = np.zeros(images[0].shape, dtype='complex128')\n",
    "    #avg = np.mean(data,axis=0)\n",
    "    l = images.shape[0]\n",
    "    for i in range(l):\n",
    "        img = images[i]\n",
    "        x = blurred[i]\n",
    "        row, col = img.shape\n",
    "        gauss = noise(row, col)/255\n",
    "        #gauss = gauss/np.max(gauss)\n",
    "        D = np.fft.fft2(img)\n",
    "        N = np.fft.fft2(gauss)\n",
    "        X = np.fft.fft2(x+gauss)\n",
    "        H = (X-N)/D\n",
    "        G1 = (np.conjugate(H)*D*np.conj(D))/65536\n",
    "        G2 = (np.conjugate(H)*H*D*np.conj(D)/65536 + N*np.conj(N)/65536)\n",
    "        G += G1/G2\n",
    "    return G/l"
   ]
  },
  {
   "cell_type": "code",
   "execution_count": 10,
   "metadata": {
    "scrolled": true
   },
   "outputs": [
    {
     "data": {
      "text/plain": [
       "((0.06035113853627861+0.04359942937012486j),\n",
       " (1.0196216143653307+0.00029008108831199636j),\n",
       " (64, 64))"
      ]
     },
     "execution_count": 10,
     "metadata": {},
     "output_type": "execute_result"
    }
   ],
   "source": [
    "H = train(images, blurred)\n",
    "if np.real(np.max(H))>10000:\n",
    "    H = train(images, blurred)\n",
    "    \n",
    "np.min(H), np.max(H), H.shape"
   ]
  },
  {
   "cell_type": "markdown",
   "metadata": {},
   "source": [
    "### Visualizing H(u,v)\n",
    "Transfer function should be a band pass filter and must be given by circle"
   ]
  },
  {
   "cell_type": "code",
   "execution_count": 11,
   "metadata": {},
   "outputs": [
    {
     "data": {
      "text/plain": [
       "True"
      ]
     },
     "execution_count": 11,
     "metadata": {},
     "output_type": "execute_result"
    }
   ],
   "source": [
    "k = np.abs(H)\n",
    "k = k/np.max(k)\n",
    "#display(k)\n",
    "cv2.imwrite(\"./Results/Transfer.jpg\",np.uint8(k*255))"
   ]
  },
  {
   "cell_type": "markdown",
   "metadata": {},
   "source": [
    "### Testing\n",
    "\n",
    "For testing we will first define a function to display an image. This is done to avoid redundancy in code. `display()` will internally work on `cv2.imshow()`"
   ]
  },
  {
   "cell_type": "code",
   "execution_count": 12,
   "metadata": {},
   "outputs": [],
   "source": [
    "def display(image, name='Screen'):\n",
    "    cv2.imshow(name,image)\n",
    "    cv2.waitKey()\n",
    "    cv2.destroyAllWindows()"
   ]
  },
  {
   "cell_type": "code",
   "execution_count": 13,
   "metadata": {},
   "outputs": [],
   "source": [
    "def test(im):\n",
    "    #im = cv2.imread('/home/manas/Datasets/Dataset/BSDS300/images/train/134008.jpg',0)\n",
    "    w,h = im.shape\n",
    "    size = 64\n",
    "\n",
    "    im = pad(im, int(np.ceil(w*1.0/size)*size), int(np.ceil(h*1.0/size)*size))\n",
    "    final = np.zeros(im.shape)\n",
    "    w,h = im.shape\n",
    "    #print w,h\n",
    "    gauss = noise(w,h)\n",
    "    #gauss -= np.min(gauss)\n",
    "    y = convolve(im,blur(),'same')\n",
    "    imnoise = y + gauss\n",
    "    imnoise[imnoise>255] = 255\n",
    "    imnoise[imnoise<0] = 0\n",
    "    imnoise /= 255\n",
    "\n",
    "    for i in range(size,w+1,size):\n",
    "            for j in range(size,h+1,size):\n",
    "                patch = imnoise[(i-size):i,(j-size):j]\n",
    "                \n",
    "                X_test = np.fft.fft2(patch)\n",
    "                out = np.fft.ifft2(H*X_test)\n",
    "                output = np.absolute(out)\n",
    "                output = output/np.max(output)\n",
    "                final[(i-size):i,(j-size):j] = output\n",
    "#     display(imnoise)\n",
    "#     display(final)\n",
    "    cv2.imwrite(\"./Results/\"+name+\"_Output.jpg\",np.uint8(final*255))\n",
    "    cv2.imwrite(\"./Results/\"+name+\"_Input.jpg\",np.uint8(imnoise*255))\n",
    "    return psnr(np.uint8(imnoise*255),im), psnr(im,np.uint8(final*255.0)), ssim(im,final), ssim(np.uint8(imnoise*255),im)"
   ]
  },
  {
   "cell_type": "code",
   "execution_count": 14,
   "metadata": {
    "scrolled": true
   },
   "outputs": [
    {
     "name": "stdout",
     "output_type": "stream",
     "text": [
      "All data in form of PSNR in db and SSIM index\n",
      "Image: 1\n",
      "Noise: 32.44446422098167, 0.5722711439548581, Output: 27.600519776289225, 1.0\n",
      "Image: 10\n",
      "Noise: 32.4076981265208, 0.5220048588899826, Output: 27.491359385853066, 1.0\n",
      "Image: 11\n",
      "Noise: 34.12002742794045, 0.6599827882986563, Output: 28.0099104352151, 1.0\n",
      "Image: 12\n",
      "Noise: 30.661732837589227, 0.6474724623132171, Output: 27.504855535254787, 1.0\n",
      "Image: 13\n",
      "Noise: 32.752958806282464, 0.6376579248677645, Output: 28.58281395558045, 1.0\n",
      "Image: 14\n",
      "Noise: 29.77376725581206, 0.37644199821123225, Output: 27.77227550315712, 1.0\n",
      "Image: 2\n",
      "Noise: 32.06950404364448, 0.5599221217470589, Output: 27.817173755701795, 1.0\n",
      "Image: 3\n",
      "Noise: 31.46500636848996, 0.5651699124148128, Output: 27.51593351271763, 1.0\n",
      "Image: 4\n",
      "Noise: 30.764460557569933, 0.4085695907121556, Output: 27.443430760166585, 1.0\n",
      "Image: 5\n",
      "Noise: 30.148075354025266, 0.4560245821733598, Output: 27.70481848716593, 1.0\n",
      "Image: 6\n",
      "Noise: 34.04607028958711, 0.3393041794131283, Output: 27.888245701906676, 1.0\n",
      "Image: 7\n",
      "Noise: 34.22808238691098, 0.48531403129121203, Output: 27.696004673731558, 1.0\n",
      "Image: 8\n",
      "Noise: 30.36923729036787, 0.5866899022327643, Output: 27.74442608626112, 1.0\n",
      "Image: 9\n",
      "Noise: 30.661295800588512, 0.6780343388279784, Output: 27.589940682586082, 1.0\n",
      "Average output values: -4.1107623224802605 1.0\n"
     ]
    }
   ],
   "source": [
    "folder = \"./Data/Set14/\"\n",
    "\n",
    "files = os.listdir(folder)\n",
    "files.sort()\n",
    "\n",
    "avg_psnr = 0\n",
    "avg_ssim = 0\n",
    "\n",
    "print \"All data in form of PSNR in db and SSIM index\"\n",
    "\n",
    "for file_name in files:\n",
    "    name = file_name.split(\".\")[0]\n",
    "    img = cv2.imread(folder+file_name,0)\n",
    "    result = test(img)\n",
    "    avg_psnr += result[1]-result[0]\n",
    "    avg_ssim += result[2]\n",
    "    \n",
    "    print (\"Image: \"+name+\"\\nNoise: \"+str(result[0])+\", \"+str(result[3])+\", Output: \"+str(result[1])+\", \"+str(result[2]))\n",
    "    \n",
    "print \"Average output values:\",\n",
    "print avg_psnr/len(files), avg_ssim/len(files)"
   ]
  },
  {
   "cell_type": "markdown",
   "metadata": {},
   "source": [
    "### Example Testing\n",
    "We choose a random image to add noise to and the denoise it using Wiener Filter"
   ]
  },
  {
   "cell_type": "code",
   "execution_count": 15,
   "metadata": {},
   "outputs": [],
   "source": [
    "im = cv2.imread('./Data/134052.jpg',0)\n",
    "#test(im)\n",
    "w,h = im.shape\n",
    "size = 64\n",
    "\n",
    "im = pad(im, int(np.ceil(w*1.0/size)*size), int(np.ceil(h*1.0/size)*size))\n",
    "final = np.zeros(im.shape)\n",
    "w,h = im.shape\n",
    "gauss = noise(w,h)\n",
    "\n",
    "y = convolve(im,blur(),'same')\n",
    "imnoise = y + gauss\n",
    "imnoise[imnoise>255] = 255\n",
    "imnoise[imnoise<0] = 0\n",
    "imnoise /= 255\n",
    "\n",
    "\n",
    "for i in range(size,w+1,size):\n",
    "        for j in range(size,h+1,size):\n",
    "            patch = im[(i-size):i,(j-size):j]\n",
    "            #print np.max(imnoise), np.min(imnoise), np.min(gauss), np.max(gauss)\n",
    "            #print psnr(im,imnoise), ssim(im,imnoise)\n",
    "            X_test = np.fft.fft2(patch)\n",
    "            out = np.fft.ifft2(H*X_test)\n",
    "            output = np.absolute(out)\n",
    "            # output[output<0] = 0.0\n",
    "            # output[output>1] = 1.0\n",
    "            #np.max(output)\n",
    "            output = output/np.max(output)\n",
    "            final[(i-size):i,(j-size):j] = output\n",
    "       "
   ]
  },
  {
   "cell_type": "markdown",
   "metadata": {},
   "source": [
    "#### Exploration \n",
    "Checking for the PSNR and SSIM between image and the blurred image for the testing image, reveals us the amount of degradation brought in image based on noise.\n",
    "After that the images are displayed for perceptual understanding."
   ]
  },
  {
   "cell_type": "code",
   "execution_count": 16,
   "metadata": {},
   "outputs": [
    {
     "data": {
      "text/plain": [
       "True"
      ]
     },
     "execution_count": 16,
     "metadata": {},
     "output_type": "execute_result"
    }
   ],
   "source": [
    "display(im, \"Original\")\n",
    "display(gauss/np.max(gauss), \"Noise\")\n",
    "display(imnoise, \"Noisy Image\")\n",
    "display(final,\"Wiener Output\")\n",
    "cv2.imwrite(\"./Results/Test_In.jpg\",np.uint8(imnoise*255))\n",
    "cv2.imwrite(\"./Results/Test_Out.jpg\",np.uint8(final*255))"
   ]
  },
  {
   "cell_type": "markdown",
   "metadata": {},
   "source": [
    "#### Evaluation\n",
    "The metrics are based on PSNR and SSIM of the image after filtering and the source image (noise free)"
   ]
  },
  {
   "cell_type": "code",
   "execution_count": 17,
   "metadata": {},
   "outputs": [
    {
     "name": "stdout",
     "output_type": "stream",
     "text": [
      "Noise\n",
      "PSNR:  35.0845 dB\n",
      "SSIM:  0.4025\n",
      "\n",
      "Output\n",
      "PSNR:  27.8148 dB\n",
      "SSIM:  0.5478\n"
     ]
    }
   ],
   "source": [
    "print \"Noise\"\n",
    "print \"PSNR: \", round(psnr(np.uint8(imnoise*255),im),4),\"dB\"\n",
    "print \"SSIM: \", round(ssim(im*1.0,imnoise*255.0),4)\n",
    "print \"\\nOutput\"\n",
    "print \"PSNR: \",round(psnr(np.uint8(final*255), im),4),\"dB\"\n",
    "print \"SSIM: \",round(ssim(im*1.0, final*255.0),4)"
   ]
  }
 ],
 "metadata": {
  "kernelspec": {
   "display_name": "Python 3",
   "language": "python",
   "name": "python3"
  },
  "language_info": {
   "codemirror_mode": {
    "name": "ipython",
    "version": 2
   },
   "file_extension": ".py",
   "mimetype": "text/x-python",
   "name": "python",
   "nbconvert_exporter": "python",
   "pygments_lexer": "ipython2",
   "version": "2.7.12"
  }
 },
 "nbformat": 4,
 "nbformat_minor": 2
}
